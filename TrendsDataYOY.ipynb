{
 "cells": [
  {
   "cell_type": "markdown",
   "metadata": {},
   "source": [
    "# Google Trend Data"
   ]
  },
  {
   "cell_type": "markdown",
   "metadata": {},
   "source": [
    "Ensure required packages are up to date in python distribution"
   ]
  },
  {
   "cell_type": "code",
   "execution_count": null,
   "metadata": {},
   "outputs": [],
   "source": [
    "import sys\n",
    "!{sys.executable} -m pip install pandas\n",
    "!{sys.executable} -m pip install pytrends\n",
    "!{sys.executable} -m pip install datetime\n",
    "!{sys.executable} -m pip install os"
   ]
  },
  {
   "cell_type": "code",
   "execution_count": null,
   "metadata": {},
   "outputs": [],
   "source": [
    "import pandas as pd\n",
    "import os\n",
    "from pytrends.request import TrendReq\n",
    "from datetime import timedelta, date, datetime"
   ]
  },
  {
   "cell_type": "markdown",
   "metadata": {},
   "source": [
    "### Enter start and end dates for time periods in question:\n",
    "###### All dates in 'date(YYYY,MM,DD)' format"
   ]
  },
  {
   "cell_type": "code",
   "execution_count": null,
   "metadata": {},
   "outputs": [],
   "source": [
    "this_start_date = date(2020,9,27)      # Start date for this year's time period\n",
    "this_end_date = date(2020,10,24)       # End date for this year's time period\n",
    "last_start_date = date(2019,9,29)      # Start date for last year's time period\n",
    "last_end_date = date(2019,10,26)       # End date for this year's time period"
   ]
  },
  {
   "cell_type": "markdown",
   "metadata": {},
   "source": [
    "Calibration range (set's number of days to overlap date fields for calculating correlations)"
   ]
  },
  {
   "cell_type": "code",
   "execution_count": null,
   "metadata": {},
   "outputs": [],
   "source": [
    "overlap_days = 60                     # Default of 60 (days) works well"
   ]
  },
  {
   "cell_type": "code",
   "execution_count": null,
   "metadata": {},
   "outputs": [],
   "source": [
    "timeRange = (this_end_date - this_start_date).days + 1                                               #Formatting\n",
    "overlapDay = this_start_date - timedelta((((this_start_date - last_end_date)/2).days))\n",
    "corrStartDate = overlapDay - timedelta(overlap_days/2)\n",
    "corrEndDate = overlapDay + timedelta(overlap_days/2)"
   ]
  },
  {
   "cell_type": "markdown",
   "metadata": {},
   "source": [
    "#### Getting trend data for given time period"
   ]
  },
  {
   "cell_type": "code",
   "execution_count": null,
   "metadata": {},
   "outputs": [],
   "source": [
    "def getTrendData(keyword, start_date, end_date):\n",
    "    \n",
    "    \"\"\"\n",
    "    \n",
    "    Parameters\n",
    "    ----------\n",
    "    keyword : STRING\n",
    "        Keyword to get trend data for - works best in verbose format (i.e. - /m/05kv16)\n",
    "    start_date : datetime.date\n",
    "        Start date for trend data\n",
    "    end_date : datetime.date\n",
    "        End date for trend data\n",
    "\n",
    "    Returns\n",
    "    -------\n",
    "    dataset : pandas.core.frame.DataFrame\n",
    "        Output of trend data for given timeperiod.\n",
    "        Daily data up to ~9 months time range\n",
    "        Weekly data >9 months time range\n",
    "\n",
    "    \"\"\"\n",
    "    \n",
    "    pytrends = TrendReq(hl='en-US', tz=360)                      # Connecting to google servers \n",
    "    dataset = []\n",
    "\n",
    "    timeFrame = (start_date.strftime('%Y-%m-%d')+ ' ' +          # Formatting start/end dates for trend payload\n",
    "                end_date.strftime(\"%Y-%m-%d\"))\n",
    "    \n",
    "    pytrends.build_payload(kw_list = [keyword],                 # Build trend payload for given keyword, timeframe, and geo-location\n",
    "                        timeframe = timeFrame,\n",
    "                        geo = 'US')\n",
    "    \n",
    "    data = pytrends.interest_over_time()                       # Generate trend data\n",
    "\n",
    "    if not data.empty:                                         # Cleaning up data output\n",
    "        data = data.drop(labels = ['isPartial'], \n",
    "                         axis ='columns')\n",
    "        dataset.append(data)\n",
    "            \n",
    "    dataset = pd.concat(dataset, axis = 1)                     # Getting data into pandas dataframe for output\n",
    "    \n",
    "    return dataset"
   ]
  },
  {
   "cell_type": "markdown",
   "metadata": {},
   "source": [
    "#### Calculating correction factor\n",
    "A window is created where the two time ranges overlap with daily data (by _overlap_days_ number of days), and these timeframes are compared to calculate a correction factor to align each measurement as closely as possible. \n",
    "This ensures that last year's data and this year's data are using the same reference scale"
   ]
  },
  {
   "cell_type": "code",
   "execution_count": null,
   "metadata": {},
   "outputs": [],
   "source": [
    "def getCorrFactors(lastYearData, thisYearData):\n",
    "    \n",
    "    \"\"\"\n",
    "\n",
    "    Parameters\n",
    "    ----------\n",
    "    lastYearData : pandas.core.frame.DataFrame\n",
    "        Output from getTrendData funtion for last year's timeframe\n",
    "    thisYearData : pandas.core.frame.DataFrame\n",
    "        Output from getTrendData function for this year's timeframe\n",
    "\n",
    "    Returns\n",
    "    -------\n",
    "    result: float64\n",
    "        Correction factor for last year's data\n",
    "\n",
    "    \"\"\"\n",
    "\n",
    "    correctionFactors = []\n",
    "    i = 0\n",
    "    lastYearTail = pd.DataFrame(lastYearData.tail(overlap_days + 1))                    # Taking the end of last year's data\n",
    "    thisYearHead = pd.DataFrame(thisYearData.head(overlap_days + 1))                    # Taking the start of this year's data\n",
    "    for i in range(len(lastYearTail)):\n",
    "        correctionFactors.append((lastYearTail.iloc[i][0]/thisYearHead.iloc[i][0]))     # For each day in the overlap window, calculate a correction factor \n",
    "        i += 1                                                                          # between the two seperate queries to align data\n",
    "\n",
    "    return sum(correctionFactors)/len(correctionFactors)                                # Returns the average correction factor from above loop"
   ]
  },
  {
   "cell_type": "markdown",
   "metadata": {},
   "source": [
    "#### Corrects data based on correction factor calculated above"
   ]
  },
  {
   "cell_type": "code",
   "execution_count": null,
   "metadata": {},
   "outputs": [],
   "source": [
    "def correctDailyData(data, correctionFactor):\n",
    "    return data / correctionFactor"
   ]
  },
  {
   "cell_type": "markdown",
   "metadata": {},
   "source": [
    "#### Calculating YOY change in Google Trend results"
   ]
  },
  {
   "cell_type": "code",
   "execution_count": null,
   "metadata": {},
   "outputs": [],
   "source": [
    "def calcYOY(keyword, this_start_date = this_start_date, this_end_date = this_end_date, \n",
    "            last_start_date = last_start_date, last_end_date= last_end_date,\n",
    "            corrStartDate = corrStartDate, corrEndDate = corrEndDate):\n",
    "    \"\"\"\n",
    "\n",
    "    Parameters\n",
    "    ----------\n",
    "    keyword : STRING\n",
    "        Keyword to get trend data for - works best in verbose format (i.e. - /m/05kv16)\n",
    "    this_start_date : datetime.date, optional\n",
    "        Start date for this year's time frame. The default is this_start_date.\n",
    "    this_end_date : datetime.date, optional\n",
    "        End data for this year's time frame. The default is this_end_date.\n",
    "    last_start_date : datetime.date, optional\n",
    "        Start date for last year's time frame. The default is last_start_date.\n",
    "    last_end_date : datetime.date, optional\n",
    "        End data for last year's time frame. The default is last_end_date.\n",
    "    corrStartDate : datetime.date, optional\n",
    "        Calculated start of overlapping window for two queries. The default is corrStartDate.\n",
    "    corrEndDate : datetime.date, optional\n",
    "        Calculated end of overlapping window for two queries. The default is corrEndDate.\n",
    "\n",
    "    Returns\n",
    "    -------\n",
    "    result: STRING\n",
    "        Formatted string of YOY increase/decrease of keyword for given timeframe.\n",
    "\n",
    "    \"\"\"\n",
    "    \n",
    "    thisYearPlus = getTrendData(keyword, corrStartDate, this_end_date)         # Queries trend data for this year's time frame + overlap\n",
    "    lastYearPlus = getTrendData(keyword, last_start_date, corrEndDate)         # Queries trend data for last year's time frame + overlap\n",
    "    \n",
    "    lastYearCorr = correctDailyData(lastYearPlus,                              # Corrects last year's (extended) data based on calculated correction factor\n",
    "                                    getCorrFactors(lastYearPlus, \n",
    "                                                   thisYearPlus))                        \n",
    "    \n",
    "    thisYearAns = thisYearPlus.tail(timeRange).mean(axis=0)[0]                 # Calculates mean of this year's trend data for time frame provided\n",
    "    lastYearAns = lastYearCorr.head(timeRange).mean(axis=0)[0]                 # Calculates mean of last year's trend data for time frame provided\n",
    "    \n",
    "    # print(thisYearPlus.tail(timeRange).mean(axis=0)[0])                      # Prints mean trend value for this year's data\n",
    "    # print(lastYearCorr.head(timeRange).mean(axis=0)[0])                      # Prints mean trend value for last year's data\n",
    "\n",
    "    yoyIncrease = ((thisYearAns - lastYearAns)/ lastYearAns) * 100             # Calculating YOY increase \n",
    "    \n",
    "    return str(round(yoyIncrease, 1)) + \"%\"                                    # Rounds and formats YOY increase"
   ]
  },
  {
   "cell_type": "markdown",
   "metadata": {},
   "source": [
    "#### Dictionary of search terms\n",
    "Key: Reference  \n",
    "Value: Keyword fed to getTrendData function - use getSuggestions to find verbose term where possible"
   ]
  },
  {
   "cell_type": "code",
   "execution_count": null,
   "metadata": {},
   "outputs": [],
   "source": [
    "kw_dict = {\n",
    "    \"Timberland\": \"/m/05kv16\",\n",
    "    \"Timberland Boots\": \"Timberland Boots\",\n",
    "    \"UGG\": \"/m/06wccjq\",\n",
    "    \"Dr Martens\": \"/m/01lsm6\",\n",
    "    \"Merrell\": \"/m/0kqrz3\",\n",
    "    \"The North Face\": \"/m/04n92b\",\n",
    "    \"Patagonia\": \"/m/0g152j\",\n",
    "    \"Allbirds\": \"/g/11g6j4k3hl\",\n",
    "    \"Vans\": \"/m/04kbwy\",\n",
    "    \"Amazon\": \"/m/0mgkg \",\n",
    "    \"Walmart\": \"/m/0841v\",\n",
    "    \"Target\": \"/m/01b39j\",\n",
    "    \"Zappos\": \"/m/02dfb9\",\n",
    "    \"Foot Locker\": \"/m/08fhy9\",\n",
    "    \"Journeys\": \"/m/03cbgd\",\n",
    "    \"DSW\": \"/m/0flp70\",\n",
    "    \"Nordstrom\": \"/m/01fc_q\",\n",
    "    \"Macy's\": \"/m/01pkxd \",\n",
    "    \"REI\": \"/m/02nx4d\",\n",
    "    \"Dick's Sports\": \"/m/06fgv_\",\n",
    "    \"Boot\": \"/m/01b638\",\n",
    "    \"Outerwear\": \"Outerwear\",\n",
    "    \"Sneakers\":\"/m/09kjlm\",\n",
    "    \"Boat Shoes\":\"/m/05q55b9\",\n",
    "    \"Sandals\":\"/m/03nfch\",\n",
    "    \"Hiking\":\"/m/012v4j\",\n",
    "    \"Sustainability\":\"/m/0hkst\",\n",
    "    \"Back to school\":\"Back to school\",\n",
    "    \"Jimmy Choo\":\"/m/0hkst\",\n",
    "    \"Timberland PRO\":\"Timberland PRO\",\n",
    "    \"Red Wing\":\"/m/0603n6\",\n",
    "    \"Carhartt\":\"/m/08vntw\",\n",
    "    #\"Wolverine\":\"/m/06ddr7\",\n",
    "    \"Dickies\":\"/m/03pjr5\",\n",
    "    \"Duluth\":\"/g/11f30mhkr2\",\n",
    "    \"Lowe's\":\"/m/037922\",\n",
    "    \"Home Depot\":\"/m/01zj1t\",\n",
    "    \"Grainger\":\"/m/0cp307\",\n",
    "    # \"Bobs\":\"Bobs\",\n",
    "    \"Boot Barn\":\"/g/11byc_x_1d\",\n",
    "    \"Work Boots\":\"Work Boots\",\n",
    "    \"Steel Toe Boots\":\"/m/01x101\",\n",
    "    \"Timberland Powertrain\":\"Timberland Powertrain\",\n",
    "    \"Safety Toe\":\"Safety Toe\",\n",
    "    \"Workwear\":\"/m/026lc7w\",\n",
    "    \"Nurse shoes\":\"Nurse shoes\",\n",
    "    \"Healthcare Discount\":\"Healthcare Discount\",\n",
    "    \"Responders Discount\":\"Responders Discount\",\n",
    "    \"Trade School\":\"/m/030x63\",\n",
    "    \"Home Improvement\":\"/m/03n2_q\",\n",
    "    \"DIY\":\"/m/017rcq\"\n",
    "    }"
   ]
  },
  {
   "cell_type": "markdown",
   "metadata": {},
   "source": [
    "#### Calculating YOY results for the given keywords"
   ]
  },
  {
   "cell_type": "code",
   "execution_count": null,
   "metadata": {},
   "outputs": [],
   "source": [
    "lst_keywords = []\n",
    "\n",
    "print(\"Adding keywords...\")\n",
    "for topic in kw_dict:                                        # Creating list of keywords\n",
    "    lst_keywords.append(topic)\n",
    "\n",
    "\n",
    "lst_values = []\n",
    "\n",
    "print(\"Calculating...\")\n",
    "for topic in kw_dict:                                        # Calculating YOY results for each keyword in list\n",
    "    print(topic)\n",
    "    lst_values.append(calcYOY(kw_dict[topic]))\n",
    "\n",
    "print(\"Combining...\")\n",
    "res = dict(zip(lst_keywords, lst_values))                    # Combining results into dataframe     \n",
    "res = pd.DataFrame.from_dict(res,            \n",
    "                             orient = 'index', \n",
    "                             columns = ['YOY Change'])\n",
    "res_df = res.transpose()                                  # Horizontal representation"
   ]
  },
  {
   "cell_type": "markdown",
   "metadata": {},
   "source": [
    "#### Use this to get verbose suggestions for a given keyword"
   ]
  },
  {
   "cell_type": "code",
   "execution_count": null,
   "metadata": {},
   "outputs": [],
   "source": [
    "def getSuggestions(keyword):\n",
    "    \n",
    "    \"\"\"\n",
    "    Parameters:\n",
    "    keyword: STRING \n",
    "        Keyword to look for suggestions for\n",
    "    \n",
    "    Returns:\n",
    "    result: pandas.core.frame.DataFrame \n",
    "        Dateframe of suggestions, where mid is keyword ID for associated type\n",
    "    \"\"\"\n",
    "    \n",
    "    pytrends = TrendReq(hl='en-US', tz=360)                # Connect to Google servers\n",
    "    \n",
    "    suggestions = (pytrends.suggestions(keyword))          # Get suggestions on given keyword\n",
    "    suggestions = pd.DataFrame(suggestions)                # Format as pandas dataframe\n",
    "    \n",
    "    return suggestions"
   ]
  },
  {
   "cell_type": "markdown",
   "metadata": {},
   "source": [
    "### Results"
   ]
  },
  {
   "cell_type": "code",
   "execution_count": null,
   "metadata": {},
   "outputs": [],
   "source": [
    "print(res)"
   ]
  },
  {
   "cell_type": "markdown",
   "metadata": {},
   "source": [
    "#### Output to csv in current working directory"
   ]
  },
  {
   "cell_type": "code",
   "execution_count": null,
   "metadata": {},
   "outputs": [],
   "source": [
    "filename = 'trends_ouutput.csv' + str(datetime.now().strftime(\"%Y%m%d-%H%M\"))\n",
    "# res.to_csv(filename)\n",
    "print(\"File output to: {}\".format(os.getcwd()))"
   ]
  },
  {
   "cell_type": "markdown",
   "metadata": {},
   "source": [
    "#### To get suggestions for keywords"
   ]
  },
  {
   "cell_type": "code",
   "execution_count": null,
   "metadata": {},
   "outputs": [],
   "source": [
    "getSuggestions(\"KEYWORD\")"
   ]
  },
  {
   "cell_type": "markdown",
   "metadata": {},
   "source": [
    "##### Export notebook to share"
   ]
  },
  {
   "cell_type": "code",
   "execution_count": 3,
   "metadata": {
    "collapsed": true,
    "jupyter": {
     "outputs_hidden": true
    }
   },
   "outputs": [
    {
     "name": "stdout",
     "output_type": "stream",
     "text": [
      "This application is used to convert notebook files (*.ipynb) to various other"
     ]
    },
    {
     "name": "stderr",
     "output_type": "stream",
     "text": [
      "[NbConvertApp] WARNING | pattern 'TrendsDataYOY_export.ipynb' matched no files\n"
     ]
    },
    {
     "name": "stdout",
     "output_type": "stream",
     "text": [
      "\n",
      "formats.\n",
      "\n",
      "WARNING: THE COMMANDLINE INTERFACE MAY CHANGE IN FUTURE RELEASES.\n",
      "\n",
      "Options\n",
      "=======\n",
      "The options below are convenience aliases to configurable class-options,\n",
      "as listed in the \"Equivalent to\" description-line of the aliases.\n",
      "To see all configurable class-options for some <cmd>, use:\n",
      "    <cmd> --help-all\n",
      "\n",
      "--debug\n",
      "    set log level to logging.DEBUG (maximize logging output)\n",
      "    Equivalent to: [--Application.log_level=10]\n",
      "--generate-config\n",
      "    generate default config file\n",
      "    Equivalent to: [--JupyterApp.generate_config=True]\n",
      "-y\n",
      "    Answer yes to any questions instead of prompting.\n",
      "    Equivalent to: [--JupyterApp.answer_yes=True]\n",
      "--execute\n",
      "    Execute the notebook prior to export.\n",
      "    Equivalent to: [--ExecutePreprocessor.enabled=True]\n",
      "--allow-errors\n",
      "    Continue notebook execution even if one of the cells throws an error and include the error message in the cell output (the default behaviour is to abort conversion). This flag is only relevant if '--execute' was specified, too.\n",
      "    Equivalent to: [--ExecutePreprocessor.allow_errors=True]\n",
      "--stdin\n",
      "    read a single notebook file from stdin. Write the resulting notebook with default basename 'notebook.*'\n",
      "    Equivalent to: [--NbConvertApp.from_stdin=True]\n",
      "--stdout\n",
      "    Write notebook output to stdout instead of files.\n",
      "    Equivalent to: [--NbConvertApp.writer_class=StdoutWriter]\n",
      "--inplace\n",
      "    Run nbconvert in place, overwriting the existing notebook (only \n",
      "    relevant when converting to notebook format)\n",
      "    Equivalent to: [--NbConvertApp.use_output_suffix=False --NbConvertApp.export_format=notebook --FilesWriter.build_directory=]\n",
      "--clear-output\n",
      "    Clear output of current file and save in place, \n",
      "    overwriting the existing notebook.\n",
      "    Equivalent to: [--NbConvertApp.use_output_suffix=False --NbConvertApp.export_format=notebook --FilesWriter.build_directory= --ClearOutputPreprocessor.enabled=True]\n",
      "--no-prompt\n",
      "    Exclude input and output prompts from converted document.\n",
      "    Equivalent to: [--TemplateExporter.exclude_input_prompt=True --TemplateExporter.exclude_output_prompt=True]\n",
      "--no-input\n",
      "    Exclude input cells and output prompts from converted document. \n",
      "    This mode is ideal for generating code-free reports.\n",
      "    Equivalent to: [--TemplateExporter.exclude_output_prompt=True --TemplateExporter.exclude_input=True]\n",
      "--allow-chromium-download\n",
      "    Whether to allow downloading chromium if no suitable version is found on the system.\n",
      "    Equivalent to: [--WebPDFExporter.allow_chromium_download=True]\n",
      "--log-level=<Enum>\n",
      "    Set the log level by value or name.\n",
      "    Choices: any of [0, 10, 20, 30, 40, 50, 'DEBUG', 'INFO', 'WARN', 'ERROR', 'CRITICAL']\n",
      "    Default: 30\n",
      "    Equivalent to: [--Application.log_level]\n",
      "--config=<Unicode>\n",
      "    Full path of a config file.\n",
      "    Default: ''\n",
      "    Equivalent to: [--JupyterApp.config_file]\n",
      "--to=<Unicode>\n",
      "    The export format to be used, either one of the built-in formats\n",
      "    ['asciidoc', 'custom', 'html', 'latex', 'markdown', 'notebook', 'pdf',\n",
      "    'python', 'rst', 'script', 'slides', 'webpdf'] or a dotted object name that\n",
      "    represents the import path for an `Exporter` class\n",
      "    Default: ''\n",
      "    Equivalent to: [--NbConvertApp.export_format]\n",
      "--template=<Unicode>\n",
      "    Name of the template to use\n",
      "    Default: ''\n",
      "    Equivalent to: [--TemplateExporter.template_name]\n",
      "--template-file=<Unicode>\n",
      "    Name of the template file to use\n",
      "    Default: None\n",
      "    Equivalent to: [--TemplateExporter.template_file]\n",
      "--writer=<DottedObjectName>\n",
      "    Writer class used to write the  results of the conversion\n",
      "    Default: 'FilesWriter'\n",
      "    Equivalent to: [--NbConvertApp.writer_class]\n",
      "--post=<DottedOrNone>\n",
      "    PostProcessor class used to write the results of the conversion\n",
      "    Default: ''\n",
      "    Equivalent to: [--NbConvertApp.postprocessor_class]\n",
      "--output=<Unicode>\n",
      "    overwrite base name use for output files. can only be used when converting\n",
      "    one notebook at a time.\n",
      "    Default: ''\n",
      "    Equivalent to: [--NbConvertApp.output_base]\n",
      "--output-dir=<Unicode>\n",
      "    Directory to write output(s) to. Defaults to output to the directory of each\n",
      "    notebook. To recover previous default behaviour (outputting to the current\n",
      "    working directory) use . as the flag value.\n",
      "    Default: ''\n",
      "    Equivalent to: [--FilesWriter.build_directory]\n",
      "--reveal-prefix=<Unicode>\n",
      "    The URL prefix for reveal.js (version 3.x). This defaults to the reveal CDN,\n",
      "    but can be any url pointing to a copy  of reveal.js.\n",
      "    For speaker notes to work, this must be a relative path to a local  copy of\n",
      "    reveal.js: e.g., \"reveal.js\".\n",
      "    If a relative path is given, it must be a subdirectory of the current\n",
      "    directory (from which the server is run).\n",
      "    See the usage documentation\n",
      "    (https://nbconvert.readthedocs.io/en/latest/usage.html#reveal-js-html-\n",
      "    slideshow) for more details.\n",
      "    Default: ''\n",
      "    Equivalent to: [--SlidesExporter.reveal_url_prefix]\n",
      "--nbformat=<Enum>\n",
      "    The nbformat version to write. Use this to downgrade notebooks.\n",
      "    Choices: any of [1, 2, 3, 4]\n",
      "    Default: 4\n",
      "    Equivalent to: [--NotebookExporter.nbformat_version]\n",
      "\n",
      "Examples\n",
      "--------\n",
      "\n",
      "    The simplest way to use nbconvert is\n",
      "    \n",
      "    > jupyter nbconvert mynotebook.ipynb --to html\n",
      "    \n",
      "    Options include ['asciidoc', 'custom', 'html', 'latex', 'markdown', 'notebook', 'pdf', 'python', 'rst', 'script', 'slides', 'webpdf'].\n",
      "    \n",
      "    > jupyter nbconvert --to latex mynotebook.ipynb\n",
      "    \n",
      "    Both HTML and LaTeX support multiple output templates. LaTeX includes\n",
      "    'base', 'article' and 'report'.  HTML includes 'basic' and 'full'. You\n",
      "    can specify the flavor of the format used.\n",
      "    \n",
      "    > jupyter nbconvert --to html --template lab mynotebook.ipynb\n",
      "    \n",
      "    You can also pipe the output to stdout, rather than a file\n",
      "    \n",
      "    > jupyter nbconvert mynotebook.ipynb --stdout\n",
      "    \n",
      "    PDF is generated via latex\n",
      "    \n",
      "    > jupyter nbconvert mynotebook.ipynb --to pdf\n",
      "    \n",
      "    You can get (and serve) a Reveal.js-powered slideshow\n",
      "    \n",
      "    > jupyter nbconvert myslides.ipynb --to slides --post serve\n",
      "    \n",
      "    Multiple notebooks can be given at the command line in a couple of \n",
      "    different ways:\n",
      "    \n",
      "    > jupyter nbconvert notebook*.ipynb\n",
      "    > jupyter nbconvert notebook1.ipynb notebook2.ipynb\n",
      "    \n",
      "    or you can specify the notebooks list in a config file, containing::\n",
      "    \n",
      "        c.NbConvertApp.notebooks = [\"my_notebook.ipynb\"]\n",
      "    \n",
      "    > jupyter nbconvert --config mycfg.py\n",
      "\n",
      "To see all available configurables, use `--help-all`.\n",
      "\n"
     ]
    }
   ],
   "source": [
    "!jupyter nbconvert --to script TrendsDataYOY_export.ipynb"
   ]
  },
  {
   "cell_type": "code",
   "execution_count": null,
   "metadata": {},
   "outputs": [],
   "source": []
  }
 ],
 "metadata": {
  "kernelspec": {
   "display_name": "Python 3",
   "language": "python",
   "name": "python3"
  },
  "language_info": {
   "codemirror_mode": {
    "name": "ipython",
    "version": 3
   },
   "file_extension": ".py",
   "mimetype": "text/x-python",
   "name": "python",
   "nbconvert_exporter": "python",
   "pygments_lexer": "ipython3",
   "version": "3.8.3"
  }
 },
 "nbformat": 4,
 "nbformat_minor": 4
}
