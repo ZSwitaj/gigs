{
 "cells": [
  {
   "cell_type": "markdown",
   "metadata": {},
   "source": [
    "# Google Trend Data"
   ]
  },
  {
   "cell_type": "markdown",
   "metadata": {},
   "source": [
    "Ensure required packages are up to date in python distribution"
   ]
  },
  {
   "cell_type": "code",
   "execution_count": 1,
   "metadata": {},
   "outputs": [
    {
     "name": "stdout",
     "output_type": "stream",
     "text": [
      "Requirement already satisfied: pandas in c:\\users\\zswitaj\\anaconda3\\lib\\site-packages (1.1.4)\n",
      "Requirement already satisfied: python-dateutil>=2.7.3 in c:\\users\\zswitaj\\anaconda3\\lib\\site-packages (from pandas) (2.8.1)\n",
      "Requirement already satisfied: numpy>=1.15.4 in c:\\users\\zswitaj\\anaconda3\\lib\\site-packages (from pandas) (1.19.2)\n",
      "Requirement already satisfied: pytz>=2017.2 in c:\\users\\zswitaj\\anaconda3\\lib\\site-packages (from pandas) (2020.1)\n",
      "Requirement already satisfied: six>=1.5 in c:\\users\\zswitaj\\anaconda3\\lib\\site-packages (from python-dateutil>=2.7.3->pandas) (1.15.0)\n",
      "Requirement already satisfied: pytrends in c:\\users\\zswitaj\\anaconda3\\lib\\site-packages (4.7.3)\n",
      "Requirement already satisfied: requests in c:\\users\\zswitaj\\anaconda3\\lib\\site-packages (from pytrends) (2.24.0)\n",
      "Requirement already satisfied: pandas>=0.25 in c:\\users\\zswitaj\\anaconda3\\lib\\site-packages (from pytrends) (1.1.4)\n",
      "Requirement already satisfied: lxml in c:\\users\\zswitaj\\anaconda3\\lib\\site-packages (from pytrends) (4.6.1)\n",
      "Requirement already satisfied: certifi>=2017.4.17 in c:\\users\\zswitaj\\anaconda3\\lib\\site-packages (from requests->pytrends) (2020.6.20)\n",
      "Requirement already satisfied: idna<3,>=2.5 in c:\\users\\zswitaj\\anaconda3\\lib\\site-packages (from requests->pytrends) (2.10)\n",
      "Requirement already satisfied: chardet<4,>=3.0.2 in c:\\users\\zswitaj\\anaconda3\\lib\\site-packages (from requests->pytrends) (3.0.4)\n",
      "Requirement already satisfied: urllib3!=1.25.0,!=1.25.1,<1.26,>=1.21.1 in c:\\users\\zswitaj\\anaconda3\\lib\\site-packages (from requests->pytrends) (1.25.11)\n",
      "Requirement already satisfied: python-dateutil>=2.7.3 in c:\\users\\zswitaj\\anaconda3\\lib\\site-packages (from pandas>=0.25->pytrends) (2.8.1)\n",
      "Requirement already satisfied: numpy>=1.15.4 in c:\\users\\zswitaj\\anaconda3\\lib\\site-packages (from pandas>=0.25->pytrends) (1.19.2)\n",
      "Requirement already satisfied: pytz>=2017.2 in c:\\users\\zswitaj\\anaconda3\\lib\\site-packages (from pandas>=0.25->pytrends) (2020.1)\n",
      "Requirement already satisfied: six>=1.5 in c:\\users\\zswitaj\\anaconda3\\lib\\site-packages (from python-dateutil>=2.7.3->pandas>=0.25->pytrends) (1.15.0)\n",
      "Requirement already satisfied: datetime in c:\\users\\zswitaj\\anaconda3\\lib\\site-packages (4.3)\n",
      "Requirement already satisfied: zope.interface in c:\\users\\zswitaj\\anaconda3\\lib\\site-packages (from datetime) (5.1.2)\n",
      "Requirement already satisfied: pytz in c:\\users\\zswitaj\\anaconda3\\lib\\site-packages (from datetime) (2020.1)\n",
      "Requirement already satisfied: setuptools in c:\\users\\zswitaj\\anaconda3\\lib\\site-packages (from zope.interface->datetime) (50.3.1.post20201107)\n"
     ]
    },
    {
     "name": "stderr",
     "output_type": "stream",
     "text": [
      "ERROR: Could not find a version that satisfies the requirement os (from versions: none)\n",
      "ERROR: No matching distribution found for os\n"
     ]
    }
   ],
   "source": [
    "import sys\n",
    "!{sys.executable} -m pip install pandas\n",
    "!{sys.executable} -m pip install pytrends\n",
    "!{sys.executable} -m pip install datetime\n",
    "!{sys.executable} -m pip install os"
   ]
  },
  {
   "cell_type": "code",
   "execution_count": 2,
   "metadata": {},
   "outputs": [],
   "source": [
    "import pandas as pd\n",
    "import os\n",
    "from pytrends.request import TrendReq\n",
    "from datetime import timedelta, date, datetime"
   ]
  },
  {
   "cell_type": "markdown",
   "metadata": {},
   "source": [
    "### Enter start and end dates for time periods in question:\n",
    "###### All dates in 'date(YYYY,MM,DD)' format"
   ]
  },
  {
   "cell_type": "code",
   "execution_count": 3,
   "metadata": {},
   "outputs": [],
   "source": [
    "this_start_date = date(2020,9,27)      # Start date for this year's time period\n",
    "this_end_date = date(2020,10,24)       # End date for this year's time period\n",
    "last_start_date = date(2019,9,29)      # Start date for last year's time period\n",
    "last_end_date = date(2019,10,26)       # End date for this year's time period"
   ]
  },
  {
   "cell_type": "markdown",
   "metadata": {},
   "source": [
    "Calibration range (set's number of days to overlap date fields for calculating correlations)"
   ]
  },
  {
   "cell_type": "code",
   "execution_count": 4,
   "metadata": {},
   "outputs": [],
   "source": [
    "overlap_days = 60                     # Default of 60 (days) works well"
   ]
  },
  {
   "cell_type": "code",
   "execution_count": 5,
   "metadata": {},
   "outputs": [],
   "source": [
    "timeRange = (this_end_date - this_start_date).days + 1                                               #Formatting\n",
    "overlapDay = this_start_date - timedelta((((this_start_date - last_end_date)/2).days))\n",
    "corrStartDate = overlapDay - timedelta(overlap_days/2)\n",
    "corrEndDate = overlapDay + timedelta(overlap_days/2)"
   ]
  },
  {
   "cell_type": "markdown",
   "metadata": {},
   "source": [
    "#### Getting trend data for given time period"
   ]
  },
  {
   "cell_type": "code",
   "execution_count": 6,
   "metadata": {},
   "outputs": [],
   "source": [
    "def getTrendData(keyword, start_date, end_date):\n",
    "    \n",
    "    \"\"\"\n",
    "    \n",
    "    Parameters\n",
    "    ----------\n",
    "    keyword : STRING\n",
    "        Keyword to get trend data for - works best in verbose format (i.e. - /m/05kv16)\n",
    "    start_date : datetime.date\n",
    "        Start date for trend data\n",
    "    end_date : datetime.date\n",
    "        End date for trend data\n",
    "\n",
    "    Returns\n",
    "    -------\n",
    "    dataset : pandas.core.frame.DataFrame\n",
    "        Output of trend data for given timeperiod.\n",
    "        Daily data up to ~9 months time range\n",
    "        Weekly data >9 months time range\n",
    "\n",
    "    \"\"\"\n",
    "    \n",
    "    pytrends = TrendReq(hl='en-US', tz=360)                      # Connecting to google servers \n",
    "    dataset = []\n",
    "\n",
    "    timeFrame = (start_date.strftime('%Y-%m-%d')+ ' ' +          # Formatting start/end dates for trend payload\n",
    "                end_date.strftime(\"%Y-%m-%d\"))\n",
    "    \n",
    "    pytrends.build_payload(kw_list = [keyword],                 # Build trend payload for given keyword, timeframe, and geo-location\n",
    "                        timeframe = timeFrame,\n",
    "                        geo = 'US')\n",
    "    \n",
    "    data = pytrends.interest_over_time()                       # Generate trend data\n",
    "\n",
    "    if not data.empty:                                         # Cleaning up data output\n",
    "        data = data.drop(labels = ['isPartial'], \n",
    "                         axis ='columns')\n",
    "        dataset.append(data)\n",
    "            \n",
    "    dataset = pd.concat(dataset, axis = 1)                     # Getting data into pandas dataframe for output\n",
    "    \n",
    "    return dataset"
   ]
  },
  {
   "cell_type": "markdown",
   "metadata": {},
   "source": [
    "#### Calculating correction factor\n",
    "A window is created where the two time ranges overlap with daily data (by _overlap_days_ number of days), and these timeframes are compared to calculate a correction factor to align each measurement as closely as possible. \n",
    "This ensures that last year's data and this year's data are using the same reference scale"
   ]
  },
  {
   "cell_type": "code",
   "execution_count": 7,
   "metadata": {},
   "outputs": [],
   "source": [
    "def getCorrFactors(lastYearData, thisYearData):\n",
    "    \n",
    "    \"\"\"\n",
    "\n",
    "    Parameters\n",
    "    ----------\n",
    "    lastYearData : pandas.core.frame.DataFrame\n",
    "        Output from getTrendData funtion for last year's timeframe\n",
    "    thisYearData : pandas.core.frame.DataFrame\n",
    "        Output from getTrendData function for this year's timeframe\n",
    "\n",
    "    Returns\n",
    "    -------\n",
    "    result: float64\n",
    "        Correction factor for last year's data\n",
    "\n",
    "    \"\"\"\n",
    "\n",
    "    correctionFactors = []\n",
    "    i = 0\n",
    "    lastYearTail = pd.DataFrame(lastYearData.tail(overlap_days + 1))                    # Taking the end of last year's data\n",
    "    thisYearHead = pd.DataFrame(thisYearData.head(overlap_days + 1))                    # Taking the start of this year's data\n",
    "    for i in range(len(lastYearTail)):\n",
    "        correctionFactors.append((lastYearTail.iloc[i][0]/thisYearHead.iloc[i][0]))     # For each day in the overlap window, calculate a correction factor \n",
    "        i += 1                                                                          # between the two seperate queries to align data\n",
    "\n",
    "    return sum(correctionFactors)/len(correctionFactors)                                # Returns the average correction factor from above loop"
   ]
  },
  {
   "cell_type": "markdown",
   "metadata": {},
   "source": [
    "#### Corrects data based on correction factor calculated above"
   ]
  },
  {
   "cell_type": "code",
   "execution_count": 8,
   "metadata": {},
   "outputs": [],
   "source": [
    "def correctDailyData(data, correctionFactor):\n",
    "    return data / correctionFactor"
   ]
  },
  {
   "cell_type": "markdown",
   "metadata": {},
   "source": [
    "#### Calculating YOY change in Google Trend results"
   ]
  },
  {
   "cell_type": "code",
   "execution_count": 9,
   "metadata": {},
   "outputs": [],
   "source": [
    "def calcYOY(keyword, this_start_date = this_start_date, this_end_date = this_end_date, \n",
    "            last_start_date = last_start_date, last_end_date= last_end_date,\n",
    "            corrStartDate = corrStartDate, corrEndDate = corrEndDate):\n",
    "    \"\"\"\n",
    "\n",
    "    Parameters\n",
    "    ----------\n",
    "    keyword : STRING\n",
    "        Keyword to get trend data for - works best in verbose format (i.e. - /m/05kv16)\n",
    "    this_start_date : datetime.date, optional\n",
    "        Start date for this year's time frame. The default is this_start_date.\n",
    "    this_end_date : datetime.date, optional\n",
    "        End data for this year's time frame. The default is this_end_date.\n",
    "    last_start_date : datetime.date, optional\n",
    "        Start date for last year's time frame. The default is last_start_date.\n",
    "    last_end_date : datetime.date, optional\n",
    "        End data for last year's time frame. The default is last_end_date.\n",
    "    corrStartDate : datetime.date, optional\n",
    "        Calculated start of overlapping window for two queries. The default is corrStartDate.\n",
    "    corrEndDate : datetime.date, optional\n",
    "        Calculated end of overlapping window for two queries. The default is corrEndDate.\n",
    "\n",
    "    Returns\n",
    "    -------\n",
    "    result: STRING\n",
    "        Formatted string of YOY increase/decrease of keyword for given timeframe.\n",
    "\n",
    "    \"\"\"\n",
    "    \n",
    "    thisYearPlus = getTrendData(keyword, corrStartDate, this_end_date)         # Queries trend data for this year's time frame + overlap\n",
    "    lastYearPlus = getTrendData(keyword, last_start_date, corrEndDate)         # Queries trend data for last year's time frame + overlap\n",
    "    \n",
    "    lastYearCorr = correctDailyData(lastYearPlus,                              # Corrects last year's (extended) data based on calculated correction factor\n",
    "                                    getCorrFactors(lastYearPlus, \n",
    "                                                   thisYearPlus))                        \n",
    "    \n",
    "    thisYearAns = thisYearPlus.tail(timeRange).mean(axis=0)[0]                 # Calculates mean of this year's trend data for time frame provided\n",
    "    lastYearAns = lastYearCorr.head(timeRange).mean(axis=0)[0]                 # Calculates mean of last year's trend data for time frame provided\n",
    "    \n",
    "    # print(thisYearPlus.tail(timeRange).mean(axis=0)[0])                      # Prints mean trend value for this year's data\n",
    "    # print(lastYearCorr.head(timeRange).mean(axis=0)[0])                      # Prints mean trend value for last year's data\n",
    "\n",
    "    yoyIncrease = ((thisYearAns - lastYearAns)/ lastYearAns) * 100             # Calculating YOY increase \n",
    "    \n",
    "    return str(round(yoyIncrease, 1)) + \"%\"                                    # Rounds and formats YOY increase"
   ]
  },
  {
   "cell_type": "markdown",
   "metadata": {},
   "source": [
    "#### Dictionary of search terms\n",
    "Key: Reference  \n",
    "Value: Keyword fed to getTrendData function - use getSuggestions to find verbose term where possible"
   ]
  },
  {
   "cell_type": "code",
   "execution_count": 10,
   "metadata": {},
   "outputs": [],
   "source": [
    "kw_dict = {\n",
    "    \"Timberland\": \"/m/05kv16\",\n",
    "    \"Timberland Boots\": \"Timberland Boots\",\n",
    "    \"UGG\": \"/m/06wccjq\",\n",
    "    \"Dr Martens\": \"/m/01lsm6\",\n",
    "    \"Merrell\": \"/m/0kqrz3\",\n",
    "    \"The North Face\": \"/m/04n92b\",\n",
    "    \"Patagonia\": \"/m/0g152j\",\n",
    "    \"Allbirds\": \"/g/11g6j4k3hl\",\n",
    "    \"Vans\": \"/m/04kbwy\",\n",
    "    \"Amazon\": \"/m/0mgkg \"\n",
    "#     \"Walmart\": \"/m/0841v\",\n",
    "#     \"Target\": \"/m/01b39j\",\n",
    "#     \"Zappos\": \"/m/02dfb9\",\n",
    "#     \"Foot Locker\": \"/m/08fhy9\",\n",
    "#     \"Journeys\": \"/m/03cbgd\",\n",
    "#     \"DSW\": \"/m/0flp70\",\n",
    "#     \"Nordstrom\": \"/m/01fc_q\",\n",
    "#     \"Macy's\": \"/m/01pkxd \",\n",
    "#     \"REI\": \"/m/02nx4d\",\n",
    "#     \"Dick's Sports\": \"/m/06fgv_\",\n",
    "#     \"Boot\": \"/m/01b638\",\n",
    "#     \"Outerwear\": \"Outerwear\",\n",
    "#     \"Sneakers\":\"/m/09kjlm\",\n",
    "#     \"Boat Shoes\":\"/m/05q55b9\",\n",
    "#     \"Sandals\":\"/m/03nfch\",\n",
    "#     \"Hiking\":\"/m/012v4j\",\n",
    "#     \"Sustainability\":\"/m/0hkst\",\n",
    "#     \"Back to school\":\"Back to school\",\n",
    "#     \"Jimmy Choo\":\"/m/0hkst\",\n",
    "#     \"Timberland PRO\":\"Timberland PRO\",\n",
    "#     \"Red Wing\":\"/m/0603n6\",\n",
    "#     \"Carhartt\":\"/m/08vntw\",\n",
    "#     #\"Wolverine\":\"/m/06ddr7\",\n",
    "#     \"Dickies\":\"/m/03pjr5\",\n",
    "#     \"Duluth\":\"/g/11f30mhkr2\",\n",
    "#     \"Lowe's\":\"/m/037922\",\n",
    "#     \"Home Depot\":\"/m/01zj1t\",\n",
    "#     \"Grainger\":\"/m/0cp307\",\n",
    "#     # \"Bobs\":\"Bobs\",\n",
    "#     \"Boot Barn\":\"/g/11byc_x_1d\",\n",
    "#     \"Work Boots\":\"Work Boots\",\n",
    "#     \"Steel Toe Boots\":\"/m/01x101\",\n",
    "#     \"Timberland Powertrain\":\"Timberland Powertrain\",\n",
    "#     \"Safety Toe\":\"Safety Toe\",\n",
    "#     \"Workwear\":\"/m/026lc7w\",\n",
    "#     \"Nurse shoes\":\"Nurse shoes\",\n",
    "#     \"Healthcare Discount\":\"Healthcare Discount\",\n",
    "#     \"Responders Discount\":\"Responders Discount\",\n",
    "#     \"Trade School\":\"/m/030x63\",\n",
    "#     \"Home Improvement\":\"/m/03n2_q\",\n",
    "#     \"DIY\":\"/m/017rcq\"\n",
    "    }"
   ]
  },
  {
   "cell_type": "markdown",
   "metadata": {},
   "source": [
    "#### Calculating YOY results for the given keywords"
   ]
  },
  {
   "cell_type": "code",
   "execution_count": 11,
   "metadata": {},
   "outputs": [
    {
     "name": "stdout",
     "output_type": "stream",
     "text": [
      "Adding keywords...\n",
      "Calculating...\n",
      "Timberland\n",
      "Timberland Boots\n",
      "UGG\n",
      "Dr Martens\n",
      "Merrell\n",
      "The North Face\n",
      "Patagonia\n",
      "Allbirds\n",
      "Vans\n",
      "Amazon\n",
      "Combining...\n"
     ]
    }
   ],
   "source": [
    "lst_keywords = []\n",
    "\n",
    "print(\"Adding keywords...\")\n",
    "for topic in kw_dict:                                        # Creating list of keywords\n",
    "    lst_keywords.append(topic)\n",
    "\n",
    "\n",
    "lst_values = []\n",
    "\n",
    "print(\"Calculating...\")\n",
    "for topic in kw_dict:                                        # Calculating YOY results for each keyword in list\n",
    "    print(topic)\n",
    "    lst_values.append(calcYOY(kw_dict[topic]))\n",
    "\n",
    "print(\"Combining...\")\n",
    "res = dict(zip(lst_keywords, lst_values))                    # Combining results into dataframe     \n",
    "res = pd.DataFrame.from_dict(res,            \n",
    "                             orient = 'index', \n",
    "                             columns = ['YOY Change'])\n",
    "res_df = res.transpose()                                  # Horizontal representation"
   ]
  },
  {
   "cell_type": "markdown",
   "metadata": {},
   "source": [
    "#### Use this to get verbose suggestions for a given keyword"
   ]
  },
  {
   "cell_type": "code",
   "execution_count": 12,
   "metadata": {},
   "outputs": [],
   "source": [
    "def getSuggestions(keyword):\n",
    "    \n",
    "    \"\"\"\n",
    "    Parameters:\n",
    "    keyword: STRING \n",
    "        Keyword to look for suggestions for\n",
    "    \n",
    "    Returns:\n",
    "    result: pandas.core.frame.DataFrame \n",
    "        Dateframe of suggestions, where mid is keyword ID for associated type\n",
    "    \"\"\"\n",
    "    \n",
    "    pytrends = TrendReq(hl='en-US', tz=360)                # Connect to Google servers\n",
    "    \n",
    "    suggestions = (pytrends.suggestions(keyword))          # Get suggestions on given keyword\n",
    "    suggestions = pd.DataFrame(suggestions)                # Format as pandas dataframe\n",
    "    \n",
    "    return suggestions"
   ]
  },
  {
   "cell_type": "markdown",
   "metadata": {},
   "source": [
    "### Results"
   ]
  },
  {
   "cell_type": "code",
   "execution_count": 13,
   "metadata": {},
   "outputs": [
    {
     "name": "stdout",
     "output_type": "stream",
     "text": [
      "                 YOY Change\n",
      "Timberland            -0.8%\n",
      "Timberland Boots       5.6%\n",
      "UGG                   14.4%\n",
      "Dr Martens            29.6%\n",
      "Merrell                3.8%\n",
      "The North Face        -7.5%\n",
      "Patagonia            -25.1%\n",
      "Allbirds              -8.0%\n",
      "Vans                 -33.3%\n",
      "Amazon                17.6%\n"
     ]
    }
   ],
   "source": [
    "print(res)"
   ]
  },
  {
   "cell_type": "markdown",
   "metadata": {},
   "source": [
    "#### Output to csv in current working directory"
   ]
  },
  {
   "cell_type": "code",
   "execution_count": 14,
   "metadata": {},
   "outputs": [
    {
     "name": "stdout",
     "output_type": "stream",
     "text": [
      "File output to: C:\\Users\\zswitaj\n"
     ]
    }
   ],
   "source": [
    "filename = 'trends_ouutput.csv' + str(datetime.now().strftime(\"%Y%m%d-%H%M\"))\n",
    "# res.to_csv(filename)\n",
    "print(\"File output to: {}\".format(os.getcwd()))"
   ]
  },
  {
   "cell_type": "markdown",
   "metadata": {},
   "source": [
    "#### To get suggestions for keywords"
   ]
  },
  {
   "cell_type": "code",
   "execution_count": 15,
   "metadata": {},
   "outputs": [
    {
     "data": {
      "text/html": [
       "<div>\n",
       "<style scoped>\n",
       "    .dataframe tbody tr th:only-of-type {\n",
       "        vertical-align: middle;\n",
       "    }\n",
       "\n",
       "    .dataframe tbody tr th {\n",
       "        vertical-align: top;\n",
       "    }\n",
       "\n",
       "    .dataframe thead th {\n",
       "        text-align: right;\n",
       "    }\n",
       "</style>\n",
       "<table border=\"1\" class=\"dataframe\">\n",
       "  <thead>\n",
       "    <tr style=\"text-align: right;\">\n",
       "      <th></th>\n",
       "      <th>mid</th>\n",
       "      <th>title</th>\n",
       "      <th>type</th>\n",
       "    </tr>\n",
       "  </thead>\n",
       "  <tbody>\n",
       "    <tr>\n",
       "      <th>0</th>\n",
       "      <td>/m/07t6bn</td>\n",
       "      <td>Keyword</td>\n",
       "      <td>Topic</td>\n",
       "    </tr>\n",
       "    <tr>\n",
       "      <th>1</th>\n",
       "      <td>/m/07t6c1</td>\n",
       "      <td>Keyword</td>\n",
       "      <td>Topic</td>\n",
       "    </tr>\n",
       "    <tr>\n",
       "      <th>2</th>\n",
       "      <td>/m/0d6k1</td>\n",
       "      <td>Reserved word</td>\n",
       "      <td>Topic</td>\n",
       "    </tr>\n",
       "    <tr>\n",
       "      <th>3</th>\n",
       "      <td>/m/02wvj87</td>\n",
       "      <td>Keyword research</td>\n",
       "      <td>Topic</td>\n",
       "    </tr>\n",
       "    <tr>\n",
       "      <th>4</th>\n",
       "      <td>/m/0fr1w6</td>\n",
       "      <td>Index term</td>\n",
       "      <td>Topic</td>\n",
       "    </tr>\n",
       "  </tbody>\n",
       "</table>\n",
       "</div>"
      ],
      "text/plain": [
       "          mid             title   type\n",
       "0   /m/07t6bn           Keyword  Topic\n",
       "1   /m/07t6c1           Keyword  Topic\n",
       "2    /m/0d6k1     Reserved word  Topic\n",
       "3  /m/02wvj87  Keyword research  Topic\n",
       "4   /m/0fr1w6        Index term  Topic"
      ]
     },
     "execution_count": 15,
     "metadata": {},
     "output_type": "execute_result"
    }
   ],
   "source": [
    "getSuggestions(\"KEYWORD\")"
   ]
  }
 ],
 "metadata": {
  "kernelspec": {
   "display_name": "Python 3",
   "language": "python",
   "name": "python3"
  },
  "language_info": {
   "codemirror_mode": {
    "name": "ipython",
    "version": 3
   },
   "file_extension": ".py",
   "mimetype": "text/x-python",
   "name": "python",
   "nbconvert_exporter": "python",
   "pygments_lexer": "ipython3",
   "version": "3.8.3"
  }
 },
 "nbformat": 4,
 "nbformat_minor": 4
}
